{
 "cells": [
  {
   "metadata": {
    "ExecuteTime": {
     "end_time": "2024-10-02T20:19:41.824411Z",
     "start_time": "2024-10-02T20:19:40.715541Z"
    }
   },
   "cell_type": "code",
   "source": [
    "# Запуск асинхронной функции\n",
    "!pip install nest_asyncio\n",
    "import nest_asyncio\n",
    "\n",
    "nest_asyncio.apply()"
   ],
   "id": "bd2dc22132e55666",
   "outputs": [
    {
     "name": "stdout",
     "output_type": "stream",
     "text": [
      "Requirement already satisfied: nest_asyncio in ./.venv/lib/python3.12/site-packages (1.6.0)\r\n",
      "\r\n",
      "\u001B[1m[\u001B[0m\u001B[34;49mnotice\u001B[0m\u001B[1;39;49m]\u001B[0m\u001B[39;49m A new release of pip is available: \u001B[0m\u001B[31;49m24.0\u001B[0m\u001B[39;49m -> \u001B[0m\u001B[32;49m24.2\u001B[0m\r\n",
      "\u001B[1m[\u001B[0m\u001B[34;49mnotice\u001B[0m\u001B[1;39;49m]\u001B[0m\u001B[39;49m To update, run: \u001B[0m\u001B[32;49mpip install --upgrade pip\u001B[0m\r\n"
     ]
    }
   ],
   "execution_count": 1
  },
  {
   "metadata": {
    "ExecuteTime": {
     "end_time": "2024-10-02T20:19:41.837145Z",
     "start_time": "2024-10-02T20:19:41.832594Z"
    }
   },
   "cell_type": "code",
   "source": [
    "from datetime import datetime\n",
    "\n",
    "start = datetime(2024, 7, 8)\n",
    "finish = datetime(2024, 10, 1)"
   ],
   "id": "e9cb8f096f929615",
   "outputs": [],
   "execution_count": 2
  },
  {
   "metadata": {},
   "cell_type": "markdown",
   "source": "# Jira sync",
   "id": "fc7f036a93f0d568"
  },
  {
   "metadata": {
    "ExecuteTime": {
     "end_time": "2024-10-02T20:19:44.077Z",
     "start_time": "2024-10-02T20:19:41.911190Z"
    }
   },
   "cell_type": "code",
   "source": [
    "from src.tasks.jira_update_task import UpdateJiraTask\n",
    "\n",
    "jira_task = UpdateJiraTask()\n",
    "\n",
    "await jira_task.update_all_projects()\n",
    "\n",
    "await jira_task.update_worklog(start, finish)"
   ],
   "id": "654e09729e8bc1e3",
   "outputs": [],
   "execution_count": 3
  },
  {
   "metadata": {},
   "cell_type": "markdown",
   "source": "# Update TimeCamp",
   "id": "4107441c4a54c2ce"
  },
  {
   "metadata": {
    "ExecuteTime": {
     "end_time": "2024-10-02T20:19:47.801059Z",
     "start_time": "2024-10-02T20:19:44.088637Z"
    }
   },
   "cell_type": "code",
   "source": [
    "from src.tasks.time_camp_update_task import TimeCampUpdateTask\n",
    "\n",
    "service_task = TimeCampUpdateTask()\n",
    "\n",
    "await service_task.update_project()\n",
    "\n",
    "await service_task.update_entries(start, finish)"
   ],
   "id": "4d9d029c22c39f59",
   "outputs": [],
   "execution_count": 4
  },
  {
   "metadata": {},
   "cell_type": "markdown",
   "source": "# Create Worklogs",
   "id": "533fde2772878cf2"
  },
  {
   "metadata": {
    "ExecuteTime": {
     "end_time": "2024-10-02T20:19:51.350826Z",
     "start_time": "2024-10-02T20:19:47.809485Z"
    }
   },
   "cell_type": "code",
   "source": [
    "from src.tasks.worllog_sync_task import WorllogSyncTask\n",
    "\n",
    "await WorllogSyncTask.create_task_for_sync(start, finish)\n",
    "await WorllogSyncTask.before_create(start, finish)"
   ],
   "id": "72e69c9ad96ebf2a",
   "outputs": [],
   "execution_count": 5
  }
 ],
 "metadata": {
  "kernelspec": {
   "display_name": "Python 3",
   "language": "python",
   "name": "python3"
  },
  "language_info": {
   "codemirror_mode": {
    "name": "ipython",
    "version": 2
   },
   "file_extension": ".py",
   "mimetype": "text/x-python",
   "name": "python",
   "nbconvert_exporter": "python",
   "pygments_lexer": "ipython2",
   "version": "2.7.6"
  }
 },
 "nbformat": 4,
 "nbformat_minor": 5
}
